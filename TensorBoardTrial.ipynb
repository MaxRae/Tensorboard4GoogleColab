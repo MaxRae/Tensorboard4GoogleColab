{
  "nbformat": 4,
  "nbformat_minor": 0,
  "metadata": {
    "colab": {
      "name": "TensorBoardTrial.ipynb",
      "version": "0.3.2",
      "provenance": []
    },
    "kernelspec": {
      "name": "python3",
      "display_name": "Python 3"
    }
  },
  "cells": [
    {
      "metadata": {
        "id": "B30cELJgJ7l1",
        "colab_type": "text"
      },
      "cell_type": "markdown",
      "source": [
        "## Short TensorBoard Example for Google Colab\n",
        "\n",
        "Thanks to Tommy Tao for [providing tensorboardcolab](https://github.com/taomanwai/tensorboardcolab) & a [helpful stackoverflow comment](https://stackoverflow.com/questions/48407779/how-to-use-tensorboard-in-colaboratory) by piotr szybicki. "
      ]
    },
    {
      "metadata": {
        "id": "0Bs66B2vqpeN",
        "colab_type": "code",
        "outputId": "879c0714-5af8-4568-9c61-5be1498d4465",
        "colab": {
          "base_uri": "https://localhost:8080/",
          "height": 34
        }
      },
      "cell_type": "code",
      "source": [
        "import numpy as np\n",
        "import tensorflow as tf\n",
        "from tensorboardcolab import *"
      ],
      "execution_count": 1,
      "outputs": [
        {
          "output_type": "stream",
          "text": [
            "Using TensorFlow backend.\n"
          ],
          "name": "stderr"
        }
      ]
    },
    {
      "metadata": {
        "id": "yvEdIGEesD1z",
        "colab_type": "code",
        "outputId": "908b2838-cef1-4275-db14-f34cdb8a4a9b",
        "colab": {
          "base_uri": "https://localhost:8080/",
          "height": 67
        }
      },
      "cell_type": "code",
      "source": [
        "tbc = TensorBoardColab()"
      ],
      "execution_count": 2,
      "outputs": [
        {
          "output_type": "stream",
          "text": [
            "Wait for 8 seconds...\n",
            "TensorBoard link:\n",
            "http://37cd2f2c.ngrok.io\n"
          ],
          "name": "stdout"
        }
      ]
    },
    {
      "metadata": {
        "id": "lN6MQuhhCXjE",
        "colab_type": "code",
        "outputId": "e421ef4e-c97b-469d-f53b-a6d0b023252e",
        "colab": {
          "base_uri": "https://localhost:8080/",
          "height": 50
        }
      },
      "cell_type": "code",
      "source": [
        "# task: is input positive or negative?\n",
        "x = np.random.normal(size=5)\n",
        "y = [int(i>0) for i in x]\n",
        "print(np.round(x, 1))\n",
        "print(y)\n"
      ],
      "execution_count": 3,
      "outputs": [
        {
          "output_type": "stream",
          "text": [
            "[-0.3 -1.1  2.1 -1.2  0.2]\n",
            "[0, 0, 1, 0, 1]\n"
          ],
          "name": "stdout"
        }
      ]
    },
    {
      "metadata": {
        "id": "27WlY1m0qsil",
        "colab_type": "code",
        "outputId": "0a04782e-3f88-4bb8-f5f0-9cae2e90a7cf",
        "colab": {
          "base_uri": "https://localhost:8080/",
          "height": 138
        }
      },
      "cell_type": "code",
      "source": [
        "tf.reset_default_graph()\n",
        "\n",
        "# get_writer here is analogue to tf.summary.FileWriter()\n",
        "summary_writer = tbc.get_writer()\n",
        "\n",
        "x = tf.placeholder(tf.float32, [None, 1], name=\"x\")\n",
        "\n",
        "with tf.variable_scope(\"layer_1\"):\n",
        "    w1 = tf.Variable(tf.truncated_normal((1,5)), name=\"weight\")\n",
        "    b1 = tf.Variable(tf.constant(.1, shape=[5]), name=\"bias\")\n",
        "    out1 = tf.nn.relu(tf.add(tf.matmul(x,w1), b1), name=\"out\")\n",
        "    tf.summary.histogram('bias', b1)\n",
        "    tf.summary.histogram('weight', w1)\n",
        "    tf.summary.histogram('out', out1)\n",
        "\n",
        "with tf.variable_scope(\"layer_2\"):\n",
        "    w2 = tf.Variable(tf.truncated_normal((5,1)), name=\"weight\")\n",
        "    b2 = tf.Variable(tf.constant(.1), name=\"bias\")\n",
        "    out = tf.nn.sigmoid(tf.add(tf.matmul(out1,w2), b2), name=\"out\")\n",
        "    tf.summary.scalar('bias', b2)\n",
        "    tf.summary.histogram('weight', w2)\n",
        "    # without squeeze(), out is a vector and scalar() throws an error\n",
        "    tf.summary.scalar('out', tf.squeeze(out))\n",
        "    \n",
        "y = tf.placeholder(tf.float32, [None, 1], name=\"y\")\n",
        "\n",
        "with tf.variable_scope(\"loss\"):\n",
        "    loss = tf.losses.mean_squared_error(y, out)\n",
        "    tf.summary.scalar('loss', loss)   \n",
        "\n",
        "with tf.variable_scope(\"training\"):\n",
        "    train_step = tf.train.AdamOptimizer().minimize(loss)\n",
        "\n",
        "# writing the merged summaries\n",
        "merged_summary = tf.summary.merge_all()\n"
      ],
      "execution_count": 4,
      "outputs": [
        {
          "output_type": "stream",
          "text": [
            "WARNING:tensorflow:From /usr/local/lib/python3.6/dist-packages/tensorflow/python/framework/op_def_library.py:263: colocate_with (from tensorflow.python.framework.ops) is deprecated and will be removed in a future version.\n",
            "Instructions for updating:\n",
            "Colocations handled automatically by placer.\n",
            "WARNING:tensorflow:From /usr/local/lib/python3.6/dist-packages/tensorflow/python/ops/losses/losses_impl.py:667: to_float (from tensorflow.python.ops.math_ops) is deprecated and will be removed in a future version.\n",
            "Instructions for updating:\n",
            "Use tf.cast instead.\n"
          ],
          "name": "stdout"
        }
      ]
    },
    {
      "metadata": {
        "id": "yKpO0q4FzN0b",
        "colab_type": "code",
        "colab": {}
      },
      "cell_type": "code",
      "source": [
        "# training and creating the summaries\n",
        "\n",
        "with tf.Session() as sess:\n",
        "    \n",
        "    sess.run(tf.global_variables_initializer())\n",
        "    \n",
        "    for i in range(10000):\n",
        "        train = np.random.normal(size=1).reshape(1, 1)\n",
        "        target = np.array([int(i>0) for i in train]).reshape(1,1)\n",
        "\n",
        "        _, ms = sess.run([train_step, merged_summary], feed_dict={x: train, y: target})\n",
        "        \n",
        "        # just like normal TensorBoard, feeding the merged_summary, \n",
        "        # the step i and the graph for visualization to the writer\n",
        "        summary_writer.add_summary(ms, i)\n",
        "        summary_writer.add_graph(sess.graph)\n",
        "\n",
        "    "
      ],
      "execution_count": 0,
      "outputs": []
    },
    {
      "metadata": {
        "id": "qy_lzQ0r91HU",
        "colab_type": "code",
        "colab": {}
      },
      "cell_type": "code",
      "source": [
        ""
      ],
      "execution_count": 0,
      "outputs": []
    },
    {
      "metadata": {
        "id": "brBWChcsRuSK",
        "colab_type": "code",
        "colab": {}
      },
      "cell_type": "code",
      "source": [
        ""
      ],
      "execution_count": 0,
      "outputs": []
    },
    {
      "metadata": {
        "id": "URV_qIAmR3cr",
        "colab_type": "text"
      },
      "cell_type": "markdown",
      "source": [
        "#### Now open the TensorBoard tab and it should look something like this:\n",
        "![alt text](https://raw.githubusercontent.com/MaxRae/Tensorboard4GoogleColab/master/Media/Bildschirmfoto%202019-02-15%20um%2014.05.17.png)"
      ]
    },
    {
      "metadata": {
        "id": "QtFuxEr2PlVa",
        "colab_type": "text"
      },
      "cell_type": "markdown",
      "source": [
        "#### And the graph something like this (after removing training from the main graph):\n",
        "![alt text](https://raw.githubusercontent.com/MaxRae/Tensorboard4GoogleColab/master/Media/GraphScreenshot.png)"
      ]
    },
    {
      "metadata": {
        "id": "7maCBqzD-M0E",
        "colab_type": "code",
        "colab": {}
      },
      "cell_type": "code",
      "source": [
        ""
      ],
      "execution_count": 0,
      "outputs": []
    },
    {
      "metadata": {
        "id": "hG16GhNvWdQA",
        "colab_type": "text"
      },
      "cell_type": "markdown",
      "source": [
        "#### And histograms for the vectors like this:\n",
        "![alt text](https://raw.githubusercontent.com/MaxRae/Tensorboard4GoogleColab/master/Media/HistogramScreenshot.png)"
      ]
    },
    {
      "metadata": {
        "id": "23SoUjE1XKlL",
        "colab_type": "code",
        "colab": {}
      },
      "cell_type": "code",
      "source": [
        ""
      ],
      "execution_count": 0,
      "outputs": []
    }
  ]
}